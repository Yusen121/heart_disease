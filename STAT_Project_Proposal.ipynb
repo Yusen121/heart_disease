{
 "cells": [
  {
   "cell_type": "markdown",
   "id": "03c1304d-6887-4933-b672-46fb20f51a11",
   "metadata": {},
   "source": [
    "**Project Proposal: Factors in the Development of Heart Disease**\n",
    "\n",
    "Riley McNair, Lucas Wong, Yusen Wu, Kevin Zhu"
   ]
  },
  {
   "cell_type": "markdown",
   "id": "b3affd02-44af-4d40-a2b1-7f5a441ac0f6",
   "metadata": {},
   "source": [
    "**Introduction**\n",
    "\n",
    "Heart disease is one of North America's leading causes of death in adults. Heart disease can lead to increased risks of heart failure and attacks and sometimes death. Many factors contribute to people's increased likeliness of getting heart disease. **Question**: Which of the following factors, cholesterol, resting blood pressure, max heart rate, and age, are significant indicators of heart disease in each gender? Each of these variables has been linked to heart disease in people. The CDC states that high cholesterol levels and blood pressure are linked to the cause of heart disease (CDC 2022). Exercise and age also play a vital role in the development of heart disease within individuals (Rodgers et al. 2019). \n",
    "\n"
   ]
  },
  {
   "cell_type": "markdown",
   "id": "401479a7-7d53-4100-9a0b-aeda403f3e78",
   "metadata": {},
   "source": [
    "Load packages we are using within this proposal."
   ]
  },
  {
   "cell_type": "code",
   "execution_count": 10,
   "id": "508b4508-f390-417d-9b46-e710a021a374",
   "metadata": {},
   "outputs": [],
   "source": [
    "# load packages\n",
    "library(tidyverse) # needed for many functions used for data analysis, such as read_csv(), select(), etc.\n",
    "library(repr)\n",
    "library(tidymodels) \n",
    "library(infer) #needed for bootstraping and editing the data and plots"
   ]
  },
  {
   "cell_type": "markdown",
   "id": "2df85655-2983-44b0-992c-2053a2993b62",
   "metadata": {},
   "source": [
    "Read in the data from UC Irvine's Machine Learning Repository: https://archive.ics.uci.edu/dataset/45/heart+disease via a zip file."
   ]
  },
  {
   "cell_type": "code",
   "execution_count": 2,
   "id": "e071013f-7c8f-430c-b3b3-b32ed1148d19",
   "metadata": {},
   "outputs": [
    {
     "data": {
      "text/html": [
       "<table class=\"dataframe\">\n",
       "<caption>A tibble: 5 × 14</caption>\n",
       "<thead>\n",
       "\t<tr><th scope=col>age</th><th scope=col>sex</th><th scope=col>cp</th><th scope=col>trestbps</th><th scope=col>chol</th><th scope=col>fbs</th><th scope=col>restecg</th><th scope=col>thalach</th><th scope=col>exang</th><th scope=col>oldpeak</th><th scope=col>slope</th><th scope=col>ca</th><th scope=col>thal</th><th scope=col>num</th></tr>\n",
       "\t<tr><th scope=col>&lt;dbl&gt;</th><th scope=col>&lt;dbl&gt;</th><th scope=col>&lt;dbl&gt;</th><th scope=col>&lt;dbl&gt;</th><th scope=col>&lt;dbl&gt;</th><th scope=col>&lt;dbl&gt;</th><th scope=col>&lt;dbl&gt;</th><th scope=col>&lt;dbl&gt;</th><th scope=col>&lt;dbl&gt;</th><th scope=col>&lt;dbl&gt;</th><th scope=col>&lt;dbl&gt;</th><th scope=col>&lt;chr&gt;</th><th scope=col>&lt;chr&gt;</th><th scope=col>&lt;dbl&gt;</th></tr>\n",
       "</thead>\n",
       "<tbody>\n",
       "\t<tr><td>63</td><td>1</td><td>1</td><td>145</td><td>233</td><td>1</td><td>2</td><td>150</td><td>0</td><td>2.3</td><td>3</td><td>0.0</td><td>6.0</td><td>0</td></tr>\n",
       "\t<tr><td>67</td><td>1</td><td>4</td><td>160</td><td>286</td><td>0</td><td>2</td><td>108</td><td>1</td><td>1.5</td><td>2</td><td>3.0</td><td>3.0</td><td>2</td></tr>\n",
       "\t<tr><td>67</td><td>1</td><td>4</td><td>120</td><td>229</td><td>0</td><td>2</td><td>129</td><td>1</td><td>2.6</td><td>2</td><td>2.0</td><td>7.0</td><td>1</td></tr>\n",
       "\t<tr><td>37</td><td>1</td><td>3</td><td>130</td><td>250</td><td>0</td><td>0</td><td>187</td><td>0</td><td>3.5</td><td>3</td><td>0.0</td><td>3.0</td><td>0</td></tr>\n",
       "\t<tr><td>41</td><td>0</td><td>2</td><td>130</td><td>204</td><td>0</td><td>2</td><td>172</td><td>0</td><td>1.4</td><td>1</td><td>0.0</td><td>3.0</td><td>0</td></tr>\n",
       "</tbody>\n",
       "</table>\n"
      ],
      "text/latex": [
       "A tibble: 5 × 14\n",
       "\\begin{tabular}{llllllllllllll}\n",
       " age & sex & cp & trestbps & chol & fbs & restecg & thalach & exang & oldpeak & slope & ca & thal & num\\\\\n",
       " <dbl> & <dbl> & <dbl> & <dbl> & <dbl> & <dbl> & <dbl> & <dbl> & <dbl> & <dbl> & <dbl> & <chr> & <chr> & <dbl>\\\\\n",
       "\\hline\n",
       "\t 63 & 1 & 1 & 145 & 233 & 1 & 2 & 150 & 0 & 2.3 & 3 & 0.0 & 6.0 & 0\\\\\n",
       "\t 67 & 1 & 4 & 160 & 286 & 0 & 2 & 108 & 1 & 1.5 & 2 & 3.0 & 3.0 & 2\\\\\n",
       "\t 67 & 1 & 4 & 120 & 229 & 0 & 2 & 129 & 1 & 2.6 & 2 & 2.0 & 7.0 & 1\\\\\n",
       "\t 37 & 1 & 3 & 130 & 250 & 0 & 0 & 187 & 0 & 3.5 & 3 & 0.0 & 3.0 & 0\\\\\n",
       "\t 41 & 0 & 2 & 130 & 204 & 0 & 2 & 172 & 0 & 1.4 & 1 & 0.0 & 3.0 & 0\\\\\n",
       "\\end{tabular}\n"
      ],
      "text/markdown": [
       "\n",
       "A tibble: 5 × 14\n",
       "\n",
       "| age &lt;dbl&gt; | sex &lt;dbl&gt; | cp &lt;dbl&gt; | trestbps &lt;dbl&gt; | chol &lt;dbl&gt; | fbs &lt;dbl&gt; | restecg &lt;dbl&gt; | thalach &lt;dbl&gt; | exang &lt;dbl&gt; | oldpeak &lt;dbl&gt; | slope &lt;dbl&gt; | ca &lt;chr&gt; | thal &lt;chr&gt; | num &lt;dbl&gt; |\n",
       "|---|---|---|---|---|---|---|---|---|---|---|---|---|---|\n",
       "| 63 | 1 | 1 | 145 | 233 | 1 | 2 | 150 | 0 | 2.3 | 3 | 0.0 | 6.0 | 0 |\n",
       "| 67 | 1 | 4 | 160 | 286 | 0 | 2 | 108 | 1 | 1.5 | 2 | 3.0 | 3.0 | 2 |\n",
       "| 67 | 1 | 4 | 120 | 229 | 0 | 2 | 129 | 1 | 2.6 | 2 | 2.0 | 7.0 | 1 |\n",
       "| 37 | 1 | 3 | 130 | 250 | 0 | 0 | 187 | 0 | 3.5 | 3 | 0.0 | 3.0 | 0 |\n",
       "| 41 | 0 | 2 | 130 | 204 | 0 | 2 | 172 | 0 | 1.4 | 1 | 0.0 | 3.0 | 0 |\n",
       "\n"
      ],
      "text/plain": [
       "  age sex cp trestbps chol fbs restecg thalach exang oldpeak slope ca  thal num\n",
       "1 63  1   1  145      233  1   2       150     0     2.3     3     0.0 6.0  0  \n",
       "2 67  1   4  160      286  0   2       108     1     1.5     2     3.0 3.0  2  \n",
       "3 67  1   4  120      229  0   2       129     1     2.6     2     2.0 7.0  1  \n",
       "4 37  1   3  130      250  0   0       187     0     3.5     3     0.0 3.0  0  \n",
       "5 41  0   2  130      204  0   2       172     0     1.4     1     0.0 3.0  0  "
      ]
     },
     "metadata": {},
     "output_type": "display_data"
    }
   ],
   "source": [
    "# read in dataset from web\n",
    "url <- \"https://archive.ics.uci.edu/static/public/45/heart+disease.zip\"\n",
    "download.file(url, \"cleveland_data.zip\")\n",
    "unzip(\"cleveland_data.zip\")\n",
    "cleveland_original <- read_csv(\"processed.cleveland.data\",\n",
    "                               col_names = c(\"age\", \"sex\", \"cp\", \"trestbps\", \"chol\", \"fbs\",\n",
    "                                        \"restecg\", \"thalach\", \"exang\", \"oldpeak\", \"slope\", \"ca\", \"thal\", \"num\"),\n",
    "                               show_col_types = FALSE)\n",
    "\n",
    "# preview first 5 rows of the dataframe\n",
    "head(cleveland_original, 5)"
   ]
  },
  {
   "cell_type": "markdown",
   "id": "d0421665-5d67-46c3-9ec9-767e02af4671",
   "metadata": {},
   "source": [
    "Filter the categories we will be using. This includes age, sex, resting blood pressure, max heart rate, cholesteral levels, and the presence of heart disease. We have tidied the num category (which originally had other numerical values), which represents the presence of heart disease, 0 = no heart disease, 1 = heart disease present. "
   ]
  },
  {
   "cell_type": "code",
   "execution_count": 7,
   "id": "58484b0d-fe93-447b-8b07-8d03f033094b",
   "metadata": {},
   "outputs": [
    {
     "data": {
      "text/html": [
       "<table class=\"dataframe\">\n",
       "<caption>A tibble: 5 × 6</caption>\n",
       "<thead>\n",
       "\t<tr><th scope=col>age</th><th scope=col>sex</th><th scope=col>trestbps</th><th scope=col>chol</th><th scope=col>thalach</th><th scope=col>num</th></tr>\n",
       "\t<tr><th scope=col>&lt;dbl&gt;</th><th scope=col>&lt;dbl&gt;</th><th scope=col>&lt;dbl&gt;</th><th scope=col>&lt;dbl&gt;</th><th scope=col>&lt;dbl&gt;</th><th scope=col>&lt;dbl&gt;</th></tr>\n",
       "</thead>\n",
       "<tbody>\n",
       "\t<tr><td>63</td><td>1</td><td>145</td><td>233</td><td>150</td><td>0</td></tr>\n",
       "\t<tr><td>67</td><td>1</td><td>160</td><td>286</td><td>108</td><td>1</td></tr>\n",
       "\t<tr><td>67</td><td>1</td><td>120</td><td>229</td><td>129</td><td>1</td></tr>\n",
       "\t<tr><td>37</td><td>1</td><td>130</td><td>250</td><td>187</td><td>0</td></tr>\n",
       "\t<tr><td>41</td><td>0</td><td>130</td><td>204</td><td>172</td><td>0</td></tr>\n",
       "</tbody>\n",
       "</table>\n"
      ],
      "text/latex": [
       "A tibble: 5 × 6\n",
       "\\begin{tabular}{llllll}\n",
       " age & sex & trestbps & chol & thalach & num\\\\\n",
       " <dbl> & <dbl> & <dbl> & <dbl> & <dbl> & <dbl>\\\\\n",
       "\\hline\n",
       "\t 63 & 1 & 145 & 233 & 150 & 0\\\\\n",
       "\t 67 & 1 & 160 & 286 & 108 & 1\\\\\n",
       "\t 67 & 1 & 120 & 229 & 129 & 1\\\\\n",
       "\t 37 & 1 & 130 & 250 & 187 & 0\\\\\n",
       "\t 41 & 0 & 130 & 204 & 172 & 0\\\\\n",
       "\\end{tabular}\n"
      ],
      "text/markdown": [
       "\n",
       "A tibble: 5 × 6\n",
       "\n",
       "| age &lt;dbl&gt; | sex &lt;dbl&gt; | trestbps &lt;dbl&gt; | chol &lt;dbl&gt; | thalach &lt;dbl&gt; | num &lt;dbl&gt; |\n",
       "|---|---|---|---|---|---|\n",
       "| 63 | 1 | 145 | 233 | 150 | 0 |\n",
       "| 67 | 1 | 160 | 286 | 108 | 1 |\n",
       "| 67 | 1 | 120 | 229 | 129 | 1 |\n",
       "| 37 | 1 | 130 | 250 | 187 | 0 |\n",
       "| 41 | 0 | 130 | 204 | 172 | 0 |\n",
       "\n"
      ],
      "text/plain": [
       "  age sex trestbps chol thalach num\n",
       "1 63  1   145      233  150     0  \n",
       "2 67  1   160      286  108     1  \n",
       "3 67  1   120      229  129     1  \n",
       "4 37  1   130      250  187     0  \n",
       "5 41  0   130      204  172     0  "
      ]
     },
     "metadata": {},
     "output_type": "display_data"
    }
   ],
   "source": [
    "\n",
    "# select for columns we'll use\n",
    "cleveland <- select(cleveland_original, age, sex, trestbps, chol, thalach, num)\n",
    "\n",
    "# convert num column to binary (0 = no heart disease; 1 = presence of heart disease)\n",
    "cleveland <- cleveland |>\n",
    "    mutate(num = ifelse(num != 0, 1, 0))\n",
    "\n",
    "# preview first 5 rows of new dataframe\n",
    "head(cleveland, 5)"
   ]
  },
  {
   "cell_type": "markdown",
   "id": "1250aa64-69ee-4f96-b460-7a0e5061ae77",
   "metadata": {},
   "source": [
    "**Methods**\n",
    "\n",
    "Out of 5% significance level "
   ]
  },
  {
   "cell_type": "markdown",
   "id": "88c9130f-32e0-49f0-ab6f-7c54fe530575",
   "metadata": {},
   "source": [
    "**Expectations and Significance**\n",
    "\n",
    "Within this research, we expect to find a correlation between the variables we are testing for and an increased risk of heart disease. Specifically, we are testing to see if age, blood pressure, heart rate, and cholesterol impact developing heart disease in individuals. These findings could help those in the medical field better determine which characteristics could predict heart diseases, indicating specific characteristics that would increase their chances of contracting heart disease among individuals. Further research could be done surrounding which types of heart diseases are most commonly seen among people with certain variables such as age and cholesterol. "
   ]
  },
  {
   "cell_type": "markdown",
   "id": "4bdfba40-3bb5-40e7-bede-bbab0514c66e",
   "metadata": {},
   "source": [
    "**Reference**\n",
    "\n",
    "Center for Disease Control and Prevention, Heart Disease and Stroke, National Center for Chronic Disease Prevention and Health Promotion, 2022 Sep 8; https://www.cdc.gov/chronicdisease/resources/publications/factsheets/heart-disease-stroke.htm#:~:text=The%20Nation's%20Risk%20Factors%20and,unhealthy%20diet%2C%20and%20physical%20inactivity. \n",
    "\n",
    "Rodgers JL, Jones J, Bolleddu SI, Vanthenapalli S, Rodgers LE, Shah K, Karia K, Panguluri SK. Cardiovascular Risks Associated with Gender and Aging. J Cardiovasc Dev Dis. 2019 Apr 27;6(2):19. doi: 10.3390/jcdd6020019. PMID: 31035613; PMCID: PMC6616540."
   ]
  }
 ],
 "metadata": {
  "kernelspec": {
   "display_name": "R",
   "language": "R",
   "name": "ir"
  },
  "language_info": {
   "codemirror_mode": "r",
   "file_extension": ".r",
   "mimetype": "text/x-r-source",
   "name": "R",
   "pygments_lexer": "r",
   "version": "4.1.3"
  }
 },
 "nbformat": 4,
 "nbformat_minor": 5
}
